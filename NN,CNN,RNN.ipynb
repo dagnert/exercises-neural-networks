{
  "nbformat": 4,
  "nbformat_minor": 0,
  "metadata": {
    "colab": {
      "name": "NN,CNN,RNN.ipynb",
      "provenance": [],
      "collapsed_sections": [
        "l6ePGPbj8gHT",
        "fSLpcsRf56fe",
        "kf4CbbNl8rjj",
        "pDA2GgrN_WHS",
        "e_Susywz-W0k",
        "lqZqbEMh-d8w"
      ],
      "authorship_tag": "ABX9TyMF8WMYv8o1kUYZG14j2e2S",
      "include_colab_link": true
    },
    "kernelspec": {
      "name": "python3",
      "display_name": "Python 3"
    }
  },
  "cells": [
    {
      "cell_type": "markdown",
      "metadata": {
        "id": "view-in-github",
        "colab_type": "text"
      },
      "source": [
        "<a href=\"https://colab.research.google.com/github/dagnert/exercises-neural-networks/blob/main/NN%2CCNN%2CRNN.ipynb\" target=\"_parent\"><img src=\"https://colab.research.google.com/assets/colab-badge.svg\" alt=\"Open In Colab\"/></a>"
      ]
    },
    {
      "cell_type": "code",
      "metadata": {
        "colab": {
          "base_uri": "https://localhost:8080/"
        },
        "id": "921T16xuuOIb",
        "outputId": "6775b877-2bfb-489f-d7dc-926077b863e8"
      },
      "source": [
        "import tensorflow as tf\r\n",
        "from tensorflow import keras\r\n",
        "import numpy as np\r\n",
        "import matplotlib.pyplot as plt\r\n",
        "print(tf.__version__)"
      ],
      "execution_count": 8,
      "outputs": [
        {
          "output_type": "stream",
          "text": [
            "2.4.0\n"
          ],
          "name": "stdout"
        }
      ]
    },
    {
      "cell_type": "markdown",
      "metadata": {
        "id": "l6ePGPbj8gHT"
      },
      "source": [
        "#Neural Network"
      ]
    },
    {
      "cell_type": "code",
      "metadata": {
        "colab": {
          "base_uri": "https://localhost:8080/"
        },
        "id": "WiEXKN8D34OM",
        "outputId": "01cdc6e7-d6ea-4a5b-8b8d-c6af652c17da"
      },
      "source": [
        "#load necessary dataset, in this case it is part of the standard keras datasets\r\n",
        "fashion_mnist = keras.datasets.fashion_mnist\r\n",
        "\r\n",
        "(train_images, train_labels), (test_images, test_labels) = fashion_mnist.load_data()"
      ],
      "execution_count": 9,
      "outputs": [
        {
          "output_type": "stream",
          "text": [
            "Downloading data from https://storage.googleapis.com/tensorflow/tf-keras-datasets/train-labels-idx1-ubyte.gz\n",
            "32768/29515 [=================================] - 0s 0us/step\n",
            "Downloading data from https://storage.googleapis.com/tensorflow/tf-keras-datasets/train-images-idx3-ubyte.gz\n",
            "26427392/26421880 [==============================] - 0s 0us/step\n",
            "Downloading data from https://storage.googleapis.com/tensorflow/tf-keras-datasets/t10k-labels-idx1-ubyte.gz\n",
            "8192/5148 [===============================================] - 0s 0us/step\n",
            "Downloading data from https://storage.googleapis.com/tensorflow/tf-keras-datasets/t10k-images-idx3-ubyte.gz\n",
            "4423680/4422102 [==============================] - 0s 0us/step\n"
          ],
          "name": "stdout"
        }
      ]
    },
    {
      "cell_type": "code",
      "metadata": {
        "id": "f14rP4HS4FBp"
      },
      "source": [
        "#define possible labels\r\n",
        "class_names = ['T-shirt/top', 'Trouser', 'Pullover', 'Dress', 'Coat',\r\n",
        "               'Sandal', 'Shirt', 'Sneaker', 'Bag', 'Ankle boot']"
      ],
      "execution_count": 10,
      "outputs": []
    },
    {
      "cell_type": "markdown",
      "metadata": {
        "id": "RRctrghl4TM6"
      },
      "source": [
        "## EDA"
      ]
    },
    {
      "cell_type": "code",
      "metadata": {
        "colab": {
          "base_uri": "https://localhost:8080/"
        },
        "id": "W8oJ4iOk4MWY",
        "outputId": "18112a2d-7e49-4797-f5df-bbb46bd0731a"
      },
      "source": [
        "#check the shape of the train data set\r\n",
        "train_images.shape"
      ],
      "execution_count": 11,
      "outputs": [
        {
          "output_type": "execute_result",
          "data": {
            "text/plain": [
              "(60000, 28, 28)"
            ]
          },
          "metadata": {
            "tags": []
          },
          "execution_count": 11
        }
      ]
    },
    {
      "cell_type": "markdown",
      "metadata": {
        "id": "lCqhpVM84njy"
      },
      "source": [
        " there are 60.000 pictures with 28x28 pixels"
      ]
    },
    {
      "cell_type": "code",
      "metadata": {
        "colab": {
          "base_uri": "https://localhost:8080/"
        },
        "id": "CZXkVLWm4gCQ",
        "outputId": "29b0e2e6-e40d-44ee-925f-d9a9c0620c29"
      },
      "source": [
        "train_labels"
      ],
      "execution_count": 13,
      "outputs": [
        {
          "output_type": "execute_result",
          "data": {
            "text/plain": [
              "array([9, 0, 0, ..., 3, 0, 5], dtype=uint8)"
            ]
          },
          "metadata": {
            "tags": []
          },
          "execution_count": 13
        }
      ]
    },
    {
      "cell_type": "code",
      "metadata": {
        "colab": {
          "base_uri": "https://localhost:8080/"
        },
        "id": "ZOmtOiPs4kg1",
        "outputId": "7d16dcb5-c671-4a81-b2bd-eedfec5d12aa"
      },
      "source": [
        "#check the shape of the test data set\r\n",
        "test_images.shape"
      ],
      "execution_count": 14,
      "outputs": [
        {
          "output_type": "execute_result",
          "data": {
            "text/plain": [
              "(10000, 28, 28)"
            ]
          },
          "metadata": {
            "tags": []
          },
          "execution_count": 14
        }
      ]
    },
    {
      "cell_type": "markdown",
      "metadata": {
        "id": "d-netsT_5JjF"
      },
      "source": [
        "The test data set got 10.000 values, also with pictures with 28x28 pixels"
      ]
    },
    {
      "cell_type": "code",
      "metadata": {
        "colab": {
          "base_uri": "https://localhost:8080/",
          "height": 265
        },
        "id": "L6r9Uf775IHq",
        "outputId": "3c763689-ffcc-4ba5-e4c6-e10eca1ca646"
      },
      "source": [
        "#If you inspect a random image in the training set, you will see that the pixel values fall in the range of 0 to 255\r\n",
        "plt.figure()\r\n",
        "plt.imshow(train_images[60])\r\n",
        "plt.colorbar()\r\n",
        "plt.grid(False)\r\n",
        "plt.show()"
      ],
      "execution_count": 15,
      "outputs": [
        {
          "output_type": "display_data",
          "data": {
            "image/png": "[encoded data removed]",
            "text/plain": [
              "<Figure size 432x288 with 2 Axes>"
            ]
          },
          "metadata": {
            "tags": [],
            "needs_background": "light"
          }
        }
      ]
    },
    {
      "cell_type": "code",
      "metadata": {
        "id": "wYU0K7km5cTc"
      },
      "source": [
        "train_images = train_images / 255.0\r\n",
        "\r\n",
        "test_images = test_images / 255.0"
      ],
      "execution_count": 16,
      "outputs": []
    },
    {
      "cell_type": "code",
      "metadata": {
        "colab": {
          "base_uri": "https://localhost:8080/",
          "height": 317
        },
        "id": "NksSdWnc5ixk",
        "outputId": "43cdc3b8-8912-4958-bb9f-9e7ffc63a91b"
      },
      "source": [
        "#let's display the first 4 images from the training set and display the class name below each image\r\n",
        "plt.figure(figsize=(5,5))\r\n",
        "for i in range(4):\r\n",
        "    plt.subplot(2,2,i+1)\r\n",
        "    plt.xticks([])\r\n",
        "    plt.yticks([])\r\n",
        "    plt.grid(False)\r\n",
        "    plt.imshow(train_images[i], cmap=plt.cm.binary)\r\n",
        "    plt.xlabel(class_names[train_labels[i]])\r\n",
        "plt.show()"
      ],
      "execution_count": 17,
      "outputs": [
        {
          "output_type": "display_data",
          "data": {
            "image/png": "[encoded data removed]",
            "text/plain": [
              "<Figure size 360x360 with 4 Axes>"
            ]
          },
          "metadata": {
            "tags": []
          }
        }
      ]
    },
    {
      "cell_type": "markdown",
      "metadata": {
        "id": "fSLpcsRf56fe"
      },
      "source": [
        "##Simple NN"
      ]
    },
    {
      "cell_type": "markdown",
      "metadata": {
        "id": "sXFGGZSX591i"
      },
      "source": [
        "Build the model\r\n",
        "\r\n",
        "* **Flatten Layer:** Flatten is used to flatten the input. For example, if flatten is applied to layer having input shape as (batch_size, 2,2), then the output shape of the layer will be (batch_size, 4)\r\n",
        "* **Dense Layer:** A common classifier for neural networks. The dense layer scans downward from the pooling layer. In this layer, every node is connected to every node in the previous layer."
      ]
    },
    {
      "cell_type": "code",
      "metadata": {
        "id": "BxoDOkD059Hg"
      },
      "source": [
        "EPOCHS_SEQ = 10\r\n",
        "X_SEQ = train_images \r\n",
        "y_SEQ = train_labels\r\n",
        "\r\n",
        "model = keras.Sequential([\r\n",
        "    keras.layers.Flatten(input_shape=(28, 28)), \r\n",
        "    keras.layers.Dense(128, activation='relu'),\r\n",
        "    keras.layers.Dense(10)\r\n",
        "])"
      ],
      "execution_count": 21,
      "outputs": []
    },
    {
      "cell_type": "markdown",
      "metadata": {
        "id": "Ut6dMjRC7O4Y"
      },
      "source": [
        "Compile and train the built model"
      ]
    },
    {
      "cell_type": "code",
      "metadata": {
        "id": "8wpKSKTq5vF4"
      },
      "source": [
        "model.compile(optimizer='adam',\r\n",
        "              loss=tf.keras.losses.SparseCategoricalCrossentropy(from_logits=True),\r\n",
        "              metrics=['accuracy'])"
      ],
      "execution_count": 22,
      "outputs": []
    },
    {
      "cell_type": "code",
      "metadata": {
        "colab": {
          "base_uri": "https://localhost:8080/"
        },
        "id": "vPmx3ogZ7Sgk",
        "outputId": "cf0283da-4c5c-409a-eeff-177359a7fbce"
      },
      "source": [
        "model.fit(X_SEQ, y_SEQ, epochs=EPOCHS_SEQ)"
      ],
      "execution_count": 23,
      "outputs": [
        {
          "output_type": "stream",
          "text": [
            "Epoch 1/10\n",
            "1875/1875 [==============================] - 4s 2ms/step - loss: 0.6259 - accuracy: 0.7877\n",
            "Epoch 2/10\n",
            "1875/1875 [==============================] - 3s 2ms/step - loss: 0.3866 - accuracy: 0.8583\n",
            "Epoch 3/10\n",
            "1875/1875 [==============================] - 3s 2ms/step - loss: 0.3399 - accuracy: 0.8758\n",
            "Epoch 4/10\n",
            "1875/1875 [==============================] - 3s 2ms/step - loss: 0.3177 - accuracy: 0.8843\n",
            "Epoch 5/10\n",
            "1875/1875 [==============================] - 3s 2ms/step - loss: 0.2962 - accuracy: 0.8921\n",
            "Epoch 6/10\n",
            "1875/1875 [==============================] - 3s 2ms/step - loss: 0.2815 - accuracy: 0.8943\n",
            "Epoch 7/10\n",
            "1875/1875 [==============================] - 3s 2ms/step - loss: 0.2675 - accuracy: 0.9011\n",
            "Epoch 8/10\n",
            "1875/1875 [==============================] - 3s 2ms/step - loss: 0.2552 - accuracy: 0.9041\n",
            "Epoch 9/10\n",
            "1875/1875 [==============================] - 3s 2ms/step - loss: 0.2461 - accuracy: 0.9074\n",
            "Epoch 10/10\n",
            "1875/1875 [==============================] - 3s 2ms/step - loss: 0.2396 - accuracy: 0.9114\n"
          ],
          "name": "stdout"
        },
        {
          "output_type": "execute_result",
          "data": {
            "text/plain": [
              "<tensorflow.python.keras.callbacks.History at 0x7f8ad324a470>"
            ]
          },
          "metadata": {
            "tags": []
          },
          "execution_count": 23
        }
      ]
    },
    {
      "cell_type": "markdown",
      "metadata": {
        "id": "yJyREKhi76H1"
      },
      "source": [
        "Check the accuracy of the model"
      ]
    },
    {
      "cell_type": "code",
      "metadata": {
        "colab": {
          "base_uri": "https://localhost:8080/"
        },
        "id": "yC9Ardef7r_H",
        "outputId": "390f48d5-85a6-4e02-e883-73b343048a46"
      },
      "source": [
        "test_loss, test_acc = model.evaluate(test_images,  test_labels, verbose=2)\r\n",
        "\r\n",
        "print('\\nTest accuracy:', test_acc)"
      ],
      "execution_count": 24,
      "outputs": [
        {
          "output_type": "stream",
          "text": [
            "313/313 - 0s - loss: 0.3522 - accuracy: 0.8791\n",
            "\n",
            "Test accuracy: 0.8791000247001648\n"
          ],
          "name": "stdout"
        }
      ]
    },
    {
      "cell_type": "markdown",
      "metadata": {
        "id": "kf4CbbNl8rjj"
      },
      "source": [
        "#CNN"
      ]
    },
    {
      "cell_type": "code",
      "metadata": {
        "id": "feUBBTq68qkq"
      },
      "source": [
        "#import needed libs\r\n",
        "from __future__ import print_function\r\n",
        "import keras\r\n",
        "from keras.datasets import cifar10\r\n",
        "from keras.preprocessing.image import ImageDataGenerator\r\n",
        "from keras.models import Sequential\r\n",
        "from keras.layers import Dense, Dropout, Activation, Flatten\r\n",
        "from keras.layers import Conv2D, MaxPooling2D\r\n",
        "import os"
      ],
      "execution_count": 25,
      "outputs": []
    },
    {
      "cell_type": "markdown",
      "metadata": {
        "id": "pDA2GgrN_WHS"
      },
      "source": [
        "##EDA"
      ]
    },
    {
      "cell_type": "code",
      "metadata": {
        "colab": {
          "base_uri": "https://localhost:8080/"
        },
        "id": "t_ESIpDm955j",
        "outputId": "ae5e5098-ba33-49db-eb0a-3c20a31a29d7"
      },
      "source": [
        "#split between train and test sets:\r\n",
        "(x_train, y_train), (x_test, y_test) = cifar10.load_data()\r\n",
        "print('x_train shape:', x_train.shape)\r\n",
        "print(x_train.shape[0], 'train samples')\r\n",
        "print(x_test.shape[0], 'test samples')"
      ],
      "execution_count": 55,
      "outputs": [
        {
          "output_type": "stream",
          "text": [
            "x_train shape: (50000, 32, 32, 3)\n",
            "50000 train samples\n",
            "10000 test samples\n"
          ],
          "name": "stdout"
        }
      ]
    },
    {
      "cell_type": "code",
      "metadata": {
        "colab": {
          "base_uri": "https://localhost:8080/"
        },
        "id": "hKFzAwZEB0ac",
        "outputId": "91fb57f8-eb89-4fa5-b56c-c9b8b656eaeb"
      },
      "source": [
        "x_train.shape, y_train.shape"
      ],
      "execution_count": 50,
      "outputs": [
        {
          "output_type": "execute_result",
          "data": {
            "text/plain": [
              "((50000, 32, 32, 3), (50000, 1))"
            ]
          },
          "metadata": {
            "tags": []
          },
          "execution_count": 50
        }
      ]
    },
    {
      "cell_type": "code",
      "metadata": {
        "colab": {
          "base_uri": "https://localhost:8080/",
          "height": 283
        },
        "id": "BqSOf8CBBHI5",
        "outputId": "38da9945-c138-4a7e-9ea5-b1b5395eec12"
      },
      "source": [
        "i=1001\r\n",
        "plt.imshow(x_train[i])\r\n",
        "print(y_train[i])\r\n",
        "plt.ioff()"
      ],
      "execution_count": 51,
      "outputs": [
        {
          "output_type": "stream",
          "text": [
            "[4]\n"
          ],
          "name": "stdout"
        },
        {
          "output_type": "display_data",
          "data": {
            "image/png": "[encoded data removed]",
            "text/plain": [
              "<Figure size 432x288 with 1 Axes>"
            ]
          },
          "metadata": {
            "tags": [],
            "needs_background": "light"
          }
        }
      ]
    },
    {
      "cell_type": "markdown",
      "metadata": {
        "id": "e_Susywz-W0k"
      },
      "source": [
        "##Settings of the training and train test split"
      ]
    },
    {
      "cell_type": "code",
      "metadata": {
        "id": "q4n6YVBd92xv"
      },
      "source": [
        "#some vars to controll the training\r\n",
        "batch_size = 32\r\n",
        "num_classes = 10 #fixed!\r\n",
        "epochs = 5"
      ],
      "execution_count": 56,
      "outputs": []
    },
    {
      "cell_type": "code",
      "metadata": {
        "id": "Xwh-KLD_9-UL"
      },
      "source": [
        "# Convert class vectors to binary class matrices.\r\n",
        "y_train = keras.utils.to_categorical(y_train, num_classes)\r\n",
        "y_test = keras.utils.to_categorical(y_test, num_classes)"
      ],
      "execution_count": 57,
      "outputs": []
    },
    {
      "cell_type": "code",
      "metadata": {
        "id": "Okt_r2zu-t13"
      },
      "source": [
        "#pre-processing: normalize data\r\n",
        "x_train = x_train.astype('float32')\r\n",
        "x_test = x_test.astype('float32')\r\n",
        "x_train /= 255\r\n",
        "x_test /= 255"
      ],
      "execution_count": 58,
      "outputs": []
    },
    {
      "cell_type": "markdown",
      "metadata": {
        "id": "lqZqbEMh-d8w"
      },
      "source": [
        "##AlexNet CNN"
      ]
    },
    {
      "cell_type": "code",
      "metadata": {
        "id": "GvUhgqWZ-MXG"
      },
      "source": [
        "model = Sequential()\r\n",
        "#conv 1\r\n",
        "model.add(Conv2D(32, (3, 3), padding='same',\r\n",
        "                 input_shape=x_train.shape[1:])) #use padding to handle border effects of the convolution\r\n",
        "model.add(Activation('relu'))\r\n",
        "#conv 2\r\n",
        "model.add(Conv2D(32, (3, 3)))\r\n",
        "model.add(Activation('relu'))\r\n",
        "model.add(MaxPooling2D(pool_size=(2, 2)))\r\n",
        "#conv 3\r\n",
        "model.add(Conv2D(64, (3, 3), padding='same'))\r\n",
        "model.add(Activation('relu'))\r\n",
        "#conv 4\r\n",
        "model.add(Conv2D(64, (3, 3)))\r\n",
        "model.add(Activation('relu'))\r\n",
        "model.add(MaxPooling2D(pool_size=(2, 2)))\r\n",
        "#FC1\r\n",
        "model.add(Flatten()) #3D conv output to 1D FC input\r\n",
        "model.add(Dense(512))\r\n",
        "model.add(Activation('relu'))\r\n",
        "#FC2\r\n",
        "model.add(Dense(num_classes))\r\n",
        "model.add(Activation('softmax'))"
      ],
      "execution_count": 59,
      "outputs": []
    },
    {
      "cell_type": "code",
      "metadata": {
        "id": "kbmsftPw-mlG"
      },
      "source": [
        "# initiate optimizer\r\n",
        "opt = keras.optimizers.RMSprop(learning_rate=0.0001, decay=1e-6)\r\n",
        "\r\n",
        "# compile model\r\n",
        "model.compile(loss='categorical_crossentropy',\r\n",
        "              optimizer=opt,\r\n",
        "              metrics=['accuracy'])"
      ],
      "execution_count": 60,
      "outputs": []
    },
    {
      "cell_type": "code",
      "metadata": {
        "colab": {
          "base_uri": "https://localhost:8080/"
        },
        "id": "CLxRDlqR-rZK",
        "outputId": "06f0c20c-0304-4eba-87fa-7bc39815e5aa"
      },
      "source": [
        "#have a look at the model\r\n",
        "model.summary()"
      ],
      "execution_count": 61,
      "outputs": [
        {
          "output_type": "stream",
          "text": [
            "Model: \"sequential_6\"\n",
            "_________________________________________________________________\n",
            "Layer (type)                 Output Shape              Param #   \n",
            "=================================================================\n",
            "conv2d_4 (Conv2D)            (None, 32, 32, 32)        896       \n",
            "_________________________________________________________________\n",
            "activation_6 (Activation)    (None, 32, 32, 32)        0         \n",
            "_________________________________________________________________\n",
            "conv2d_5 (Conv2D)            (None, 30, 30, 32)        9248      \n",
            "_________________________________________________________________\n",
            "activation_7 (Activation)    (None, 30, 30, 32)        0         \n",
            "_________________________________________________________________\n",
            "max_pooling2d_2 (MaxPooling2 (None, 15, 15, 32)        0         \n",
            "_________________________________________________________________\n",
            "conv2d_6 (Conv2D)            (None, 15, 15, 64)        18496     \n",
            "_________________________________________________________________\n",
            "activation_8 (Activation)    (None, 15, 15, 64)        0         \n",
            "_________________________________________________________________\n",
            "conv2d_7 (Conv2D)            (None, 13, 13, 64)        36928     \n",
            "_________________________________________________________________\n",
            "activation_9 (Activation)    (None, 13, 13, 64)        0         \n",
            "_________________________________________________________________\n",
            "max_pooling2d_3 (MaxPooling2 (None, 6, 6, 64)          0         \n",
            "_________________________________________________________________\n",
            "flatten_3 (Flatten)          (None, 2304)              0         \n",
            "_________________________________________________________________\n",
            "dense_9 (Dense)              (None, 512)               1180160   \n",
            "_________________________________________________________________\n",
            "activation_10 (Activation)   (None, 512)               0         \n",
            "_________________________________________________________________\n",
            "dense_10 (Dense)             (None, 10)                5130      \n",
            "_________________________________________________________________\n",
            "activation_11 (Activation)   (None, 10)                0         \n",
            "=================================================================\n",
            "Total params: 1,250,858\n",
            "Trainable params: 1,250,858\n",
            "Non-trainable params: 0\n",
            "_________________________________________________________________\n"
          ],
          "name": "stdout"
        }
      ]
    },
    {
      "cell_type": "code",
      "metadata": {
        "colab": {
          "base_uri": "https://localhost:8080/"
        },
        "id": "P4fv36qB-5SB",
        "outputId": "ae55ff02-2cf2-4909-b2dc-a88ac9a8acc4"
      },
      "source": [
        "#train model\r\n",
        "model.fit(x_train, y_train,\r\n",
        "              batch_size=batch_size,\r\n",
        "              epochs=epochs,\r\n",
        "              shuffle=True)#shuffel is important - otherwise the NN night memorite the sequence of the training data"
      ],
      "execution_count": 62,
      "outputs": [
        {
          "output_type": "stream",
          "text": [
            "Epoch 1/5\n",
            "1563/1563 [==============================] - 229s 146ms/step - loss: 1.8432 - accuracy: 0.3330\n",
            "Epoch 2/5\n",
            "1563/1563 [==============================] - 227s 145ms/step - loss: 1.3920 - accuracy: 0.5017\n",
            "Epoch 3/5\n",
            "1563/1563 [==============================] - 229s 146ms/step - loss: 1.2133 - accuracy: 0.5714\n",
            "Epoch 4/5\n",
            "1563/1563 [==============================] - 228s 146ms/step - loss: 1.0855 - accuracy: 0.6217\n",
            "Epoch 5/5\n",
            "1563/1563 [==============================] - 230s 147ms/step - loss: 0.9915 - accuracy: 0.6536\n"
          ],
          "name": "stdout"
        },
        {
          "output_type": "execute_result",
          "data": {
            "text/plain": [
              "<tensorflow.python.keras.callbacks.History at 0x7f8ad0bde668>"
            ]
          },
          "metadata": {
            "tags": []
          },
          "execution_count": 62
        }
      ]
    },
    {
      "cell_type": "code",
      "metadata": {
        "colab": {
          "base_uri": "https://localhost:8080/"
        },
        "id": "ZMRlx4pn-8sM",
        "outputId": "4152bc1d-b910-442b-ee95-ee83b56de8d5"
      },
      "source": [
        "#eval model\r\n",
        "scores = model.evaluate(x_test, y_test, verbose=1)\r\n",
        "print('Test loss:', scores[0])\r\n",
        "print('Test accuracy:', scores[1])"
      ],
      "execution_count": 63,
      "outputs": [
        {
          "output_type": "stream",
          "text": [
            "313/313 [==============================] - 11s 35ms/step - loss: 0.9860 - accuracy: 0.6613\n",
            "Test loss: 0.9860209226608276\n",
            "Test accuracy: 0.661300003528595\n"
          ],
          "name": "stdout"
        }
      ]
    },
    {
      "cell_type": "markdown",
      "metadata": {
        "id": "3Zia_fisIX1U"
      },
      "source": [
        "Accuracy is due to only 5 epochs not bad, but could be optimized by changing some of the params"
      ]
    },
    {
      "cell_type": "markdown",
      "metadata": {
        "id": "M5jvY45LIq4A"
      },
      "source": [
        "#RNN"
      ]
    },
    {
      "cell_type": "code",
      "metadata": {
        "id": "NCYiiU-1Dv-1"
      },
      "source": [
        "from __future__ import absolute_import, division, print_function\r\n",
        "\r\n",
        "# Import TensorFlow v2.\r\n",
        "import tensorflow as tf\r\n",
        "from tensorflow.keras import Model, layers\r\n",
        "import numpy as np\r\n",
        "from tensorflow.keras.datasets import mnist"
      ],
      "execution_count": 78,
      "outputs": []
    },
    {
      "cell_type": "markdown",
      "metadata": {
        "id": "h_gw4FD7LgE9"
      },
      "source": [
        "## MNIST dataset parameters"
      ]
    },
    {
      "cell_type": "code",
      "metadata": {
        "id": "cXIpRWE4Jcqi"
      },
      "source": [
        "num_classes = 10 # total classes (0-9 digits).\r\n",
        "num_features = 784 # data features (img shape: 28*28)."
      ],
      "execution_count": 75,
      "outputs": []
    },
    {
      "cell_type": "markdown",
      "metadata": {
        "id": "_e-VUMYYL7Ig"
      },
      "source": [
        "Training params"
      ]
    },
    {
      "cell_type": "code",
      "metadata": {
        "id": "UNN6VTPZLj-f"
      },
      "source": [
        "learning_rate = 0.001\r\n",
        "training_steps = 1000\r\n",
        "batch_size = 32\r\n",
        "display_step = 100"
      ],
      "execution_count": 76,
      "outputs": []
    },
    {
      "cell_type": "markdown",
      "metadata": {
        "id": "b8_eFCxJL-ae"
      },
      "source": [
        "Network Parameters"
      ]
    },
    {
      "cell_type": "code",
      "metadata": {
        "id": "TvaL1fdfLl0i"
      },
      "source": [
        "# MNIST image shape is 28*28px, we will then handle 28 sequences of 28 timesteps for every sample.\r\n",
        "num_input = 28 # number of sequences.\r\n",
        "timesteps = 28 # timesteps.\r\n",
        "num_units = 32 # number of neurons for the LSTM layer."
      ],
      "execution_count": 77,
      "outputs": []
    },
    {
      "cell_type": "markdown",
      "metadata": {
        "id": "B4z89ZOiMDlo"
      },
      "source": [
        " Prepare MNIST data"
      ]
    },
    {
      "cell_type": "code",
      "metadata": {
        "id": "gPyNvZ0YLt_L"
      },
      "source": [
        "(x_train, y_train), (x_test, y_test) = mnist.load_data()\r\n",
        "# Convert to float32.\r\n",
        "x_train, x_test = np.array(x_train, np.float32), np.array(x_test, np.float32)\r\n",
        "# Flatten images to 1-D vector of 784 features (28*28).\r\n",
        "x_train, x_test = x_train.reshape([-1, 28, 28]), x_test.reshape([-1, num_features])\r\n",
        "# Normalize images value from [0, 255] to [0, 1].\r\n",
        "x_train, x_test = x_train / 255., x_test / 255."
      ],
      "execution_count": 79,
      "outputs": []
    },
    {
      "cell_type": "code",
      "metadata": {
        "id": "BfO-JyEpMZ3l"
      },
      "source": [
        "# Use tf.data API to shuffle and batch data.\r\n",
        "train_data = tf.data.Dataset.from_tensor_slices((x_train, y_train))\r\n",
        "train_data = train_data.repeat().shuffle(5000).batch(batch_size).prefetch(1)"
      ],
      "execution_count": 80,
      "outputs": []
    },
    {
      "cell_type": "markdown",
      "metadata": {
        "id": "dkSDBEvyMkPR"
      },
      "source": [
        "##Create the LSTM model"
      ]
    },
    {
      "cell_type": "code",
      "metadata": {
        "id": "AYTiHbacMefG"
      },
      "source": [
        "class LSTM(Model):\r\n",
        "    # Set layers.\r\n",
        "    def __init__(self):\r\n",
        "        super(LSTM, self).__init__()\r\n",
        "        # RNN (LSTM) hidden layer.\r\n",
        "        self.lstm_layer = layers.LSTM(units=num_units)\r\n",
        "        self.out = layers.Dense(num_classes)\r\n",
        "\r\n",
        "    # Set forward pass.\r\n",
        "    def call(self, x, is_training=False):\r\n",
        "        # LSTM layer.\r\n",
        "        x = self.lstm_layer(x)\r\n",
        "        # Output layer (num_classes).\r\n",
        "        x = self.out(x)\r\n",
        "        if not is_training:\r\n",
        "            # tf cross entropy expect logits without softmax, so only\r\n",
        "            # apply softmax when not training.\r\n",
        "            x = tf.nn.softmax(x)\r\n",
        "        return x"
      ],
      "execution_count": 81,
      "outputs": []
    },
    {
      "cell_type": "markdown",
      "metadata": {
        "id": "ZCPwT9X8Mv_r"
      },
      "source": [
        "##Build the LSTM model"
      ]
    },
    {
      "cell_type": "code",
      "metadata": {
        "id": "WpA5B1MeMuK4"
      },
      "source": [
        "lstm_net = LSTM()"
      ],
      "execution_count": 82,
      "outputs": []
    },
    {
      "cell_type": "markdown",
      "metadata": {
        "id": "mlADapO1NZQE"
      },
      "source": [
        "## Cross-Entropy Loss"
      ]
    },
    {
      "cell_type": "code",
      "metadata": {
        "id": "1gBzyRv8NYxJ"
      },
      "source": [
        "# Note that this will apply 'softmax' to the logits.\r\n",
        "def cross_entropy_loss(x, y):\r\n",
        "    # Convert labels to int 64 for tf cross-entropy function.\r\n",
        "    y = tf.cast(y, tf.int64)\r\n",
        "    # Apply softmax to logits and compute cross-entropy.\r\n",
        "    loss = tf.nn.sparse_softmax_cross_entropy_with_logits(labels=y, logits=x)\r\n",
        "    # Average loss across the batch.\r\n",
        "    return tf.reduce_mean(loss)\r\n",
        "\r\n",
        "# Accuracy metric.\r\n",
        "def accuracy(y_pred, y_true):\r\n",
        "    # Predicted class is the index of highest score in prediction vector (i.e. argmax).\r\n",
        "    correct_prediction = tf.equal(tf.argmax(y_pred, 1), tf.cast(y_true, tf.int64))\r\n",
        "    return tf.reduce_mean(tf.cast(correct_prediction, tf.float32), axis=-1)\r\n",
        "\r\n",
        "# Adam optimizer.\r\n",
        "optimizer = tf.optimizers.Adam(learning_rate)"
      ],
      "execution_count": 85,
      "outputs": []
    },
    {
      "cell_type": "markdown",
      "metadata": {
        "id": "V3rU8Nj1M7xK"
      },
      "source": [
        "##Optimization process"
      ]
    },
    {
      "cell_type": "code",
      "metadata": {
        "id": "Qzbr4Wb4M0h3"
      },
      "source": [
        "def run_optimization(x, y):\r\n",
        "    # Wrap computation inside a GradientTape for automatic differentiation.\r\n",
        "    with tf.GradientTape() as g:\r\n",
        "        # Forward pass.\r\n",
        "        pred = lstm_net(x, is_training=True)\r\n",
        "        # Compute loss.\r\n",
        "        loss = cross_entropy_loss(pred, y)\r\n",
        "        \r\n",
        "    # Variables to update, i.e. trainable variables.\r\n",
        "    trainable_variables = lstm_net.trainable_variables\r\n",
        "\r\n",
        "    # Compute gradients.\r\n",
        "    gradients = g.gradient(loss, trainable_variables)\r\n",
        "    \r\n",
        "    # Update weights following gradients.\r\n",
        "    optimizer.apply_gradients(zip(gradients, trainable_variables))"
      ],
      "execution_count": 86,
      "outputs": []
    },
    {
      "cell_type": "markdown",
      "metadata": {
        "id": "bOjISzfhNFkR"
      },
      "source": [
        "##Run training"
      ]
    },
    {
      "cell_type": "code",
      "metadata": {
        "colab": {
          "base_uri": "https://localhost:8080/"
        },
        "id": "VFUUMmeMNBhb",
        "outputId": "1a679414-e3ea-4062-cc1f-7ed4832c8df6"
      },
      "source": [
        "for step, (batch_x, batch_y) in enumerate(train_data.take(training_steps), 1):\r\n",
        "    # Run the optimization to update W and b values.\r\n",
        "    run_optimization(batch_x, batch_y)\r\n",
        "    \r\n",
        "    if step % display_step == 0:\r\n",
        "        pred = lstm_net(batch_x, is_training=True)\r\n",
        "        loss = cross_entropy_loss(pred, batch_y)\r\n",
        "        acc = accuracy(pred, batch_y)\r\n",
        "        print(\"step: %i, loss: %f, accuracy: %f\" % (step, loss, acc))"
      ],
      "execution_count": 87,
      "outputs": [
        {
          "output_type": "stream",
          "text": [
            "step: 100, loss: 1.494543, accuracy: 0.562500\n",
            "step: 200, loss: 0.908230, accuracy: 0.718750\n",
            "step: 300, loss: 0.653096, accuracy: 0.875000\n",
            "step: 400, loss: 0.700145, accuracy: 0.843750\n",
            "step: 500, loss: 0.865915, accuracy: 0.656250\n",
            "step: 600, loss: 0.585385, accuracy: 0.906250\n",
            "step: 700, loss: 0.663961, accuracy: 0.812500\n",
            "step: 800, loss: 0.508744, accuracy: 0.812500\n",
            "step: 900, loss: 0.377093, accuracy: 0.906250\n",
            "step: 1000, loss: 0.463407, accuracy: 0.843750\n"
          ],
          "name": "stdout"
        }
      ]
    },
    {
      "cell_type": "code",
      "metadata": {
        "id": "X17bBqpVNSJ6"
      },
      "source": [
        ""
      ],
      "execution_count": null,
      "outputs": []
    }
  ]
}